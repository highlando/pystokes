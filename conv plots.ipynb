{
 "metadata": {
  "name": "conv plots"
 },
 "nbformat": 3,
 "nbformat_minor": 0,
 "worksheets": [
  {
   "cells": [
    {
     "cell_type": "code",
     "collapsed": true,
     "input": [
      "import test_time_schemes as tts\n",
      "import numpy as np\n",
      "import plot_utils as plu"
     ],
     "language": "python",
     "metadata": {},
     "outputs": [
      {
       "ename": "ImportError",
       "evalue": "No module named dolfin",
       "output_type": "pyerr",
       "traceback": [
        "\u001b[0;31m---------------------------------------------------------------------------\u001b[0m\n\u001b[0;31mImportError\u001b[0m                               Traceback (most recent call last)",
        "\u001b[0;32m<ipython-input-3-e89f2fbc32bb>\u001b[0m in \u001b[0;36m<module>\u001b[0;34m()\u001b[0m\n\u001b[0;32m----> 1\u001b[0;31m \u001b[0;32mimport\u001b[0m \u001b[0mtest_time_schemes\u001b[0m \u001b[0;32mas\u001b[0m \u001b[0mtts\u001b[0m\u001b[0;34m\u001b[0m\u001b[0m\n\u001b[0m\u001b[1;32m      2\u001b[0m \u001b[0;32mimport\u001b[0m \u001b[0mnumpy\u001b[0m \u001b[0;32mas\u001b[0m \u001b[0mnp\u001b[0m\u001b[0;34m\u001b[0m\u001b[0m\n\u001b[1;32m      3\u001b[0m \u001b[0;32mimport\u001b[0m \u001b[0mplot_utils\u001b[0m \u001b[0;32mas\u001b[0m \u001b[0mplu\u001b[0m\u001b[0;34m\u001b[0m\u001b[0m\n",
        "\u001b[0;32m/home/thrasher/work/pythonp/pystokes/test_time_schemes.py\u001b[0m in \u001b[0;36m<module>\u001b[0;34m()\u001b[0m\n\u001b[0;32m----> 1\u001b[0;31m \u001b[0;32mfrom\u001b[0m \u001b[0mdolfin\u001b[0m \u001b[0;32mimport\u001b[0m \u001b[0;34m*\u001b[0m\u001b[0;34m\u001b[0m\u001b[0m\n\u001b[0m\u001b[1;32m      2\u001b[0m \u001b[0;34m\u001b[0m\u001b[0m\n\u001b[1;32m      3\u001b[0m \u001b[0;32mimport\u001b[0m \u001b[0mnumpy\u001b[0m \u001b[0;32mas\u001b[0m \u001b[0mnp\u001b[0m\u001b[0;34m\u001b[0m\u001b[0m\n\u001b[1;32m      4\u001b[0m \u001b[0;32mimport\u001b[0m \u001b[0mscipy\u001b[0m\u001b[0;34m.\u001b[0m\u001b[0msparse\u001b[0m \u001b[0;32mas\u001b[0m \u001b[0msps\u001b[0m\u001b[0;34m\u001b[0m\u001b[0m\n\u001b[1;32m      5\u001b[0m \u001b[0;32mimport\u001b[0m \u001b[0mmatplotlib\u001b[0m\u001b[0;34m.\u001b[0m\u001b[0mpyplot\u001b[0m \u001b[0;32mas\u001b[0m \u001b[0mplt\u001b[0m\u001b[0;34m\u001b[0m\u001b[0m\n",
        "\u001b[0;31mImportError\u001b[0m: No module named dolfin"
       ]
      }
     ],
     "prompt_number": 3
    },
    {
     "cell_type": "code",
     "collapsed": true,
     "input": [
      "def err_int(jsd,JsdKey):\n",
      "    tet0=(jsd['TimeInterval'][1]-jsd['TimeInterval'][0])\n",
      "    ErL = []\n",
      "    for PEr in jsd[JsdKey]:\n",
      "        dx = tet0/len(PEr)\n",
      "        ErL.append(np.sqrt(np.trapz(np.square(PEr),dx=dx)))\n",
      "    return ErL    "
     ],
     "language": "python",
     "metadata": {},
     "outputs": [],
     "prompt_number": 4
    },
    {
     "cell_type": "code",
     "collapsed": true,
     "input": [
      "def plot_errs(ErL,TdL,Leg=None,Title=None,LinFit=False):\n",
      "    \n",
      "    x = np.arange(10)\n",
      "\n",
      "    fig = plt.figure()\n",
      "    ax = plt.subplot(111)\n",
      "    \n",
      "    if LinFit:\n",
      "        LF = 1.0/(np.array(TdL[0]))*TdL[0][0]*ErL[0][0]\n",
      "        ax.plot(TdL[0],LF,'k')\n",
      "                      \n",
      "    MkL = ['s','^','o','8','D','*']\n",
      "    for k in range(len(ErL)):\n",
      "        if Leg is not None:\n",
      "            ax.plot(TdL[k], ErL[k], MkL[k], label=Leg[k])\n",
      "        else:\n",
      "            ax.plot(TdL[k], ErL[k], MkL[k])\n",
      "            \n",
      "    plt.xscale('log', basex=10)\n",
      "    plt.yscale('log', basey=10)\n",
      "    plt.xlim(xmin=0.71*0.5*TdL[0][0], xmax=TdL[0][-1]*1.42)\n",
      "    plt.title(Title)\n",
      "    plt.grid(True)\n",
      "    # Shink current axis's height by 10% on the bottom\n",
      "    box = ax.get_position()\n",
      "    ax.set_position([box.x0, box.y0 + box.height * 0.1,\n",
      "                 box.width, box.height * 0.9])\n",
      "\n",
      "    # Put a legend below current axis\n",
      "    if Leg is not None:\n",
      "        ax.legend(loc='upper center', bbox_to_anchor=(0.5, -0.05),\n",
      "          fancybox=True, shadow=True, ncol=5)\n",
      "\n",
      "    plt.show()\n",
      "    "
     ],
     "language": "python",
     "metadata": {},
     "outputs": [],
     "prompt_number": 5
    },
    {
     "cell_type": "code",
     "collapsed": false,
     "input": [
      "DicLP = {1:'Ind1', 2:'Ind2', 3:'Ind2ra'}\n",
      "DicLM = {32:'$32$', 40:'$40$', 64:'$64$'}"
     ],
     "language": "python",
     "metadata": {},
     "outputs": [],
     "prompt_number": 6
    },
    {
     "cell_type": "code",
     "collapsed": false,
     "input": [
      "def load_jsdtoplot(PL,Omega):\n",
      "    if PL[1]==0:\n",
      "        JsF = 'om%d' % Omega + 'json/%s' % DicLP[PL[0]] + 'Tol0e+0%dN%d.json' % (PL[1],PL[2])\n",
      "    else:\n",
      "        JsF = 'om%d' % Omega + 'json/%s' % DicLP[PL[0]] + 'Tol%1.1eN%d.json' % (PL[1],PL[2])\n",
      "    return plu.load_json_dicts(JsF)"
     ],
     "language": "python",
     "metadata": {},
     "outputs": [],
     "prompt_number": 7
    },
    {
     "cell_type": "markdown",
     "metadata": {},
     "source": [
      "Make a list of the form [[$1$,$4$,$40$], ... ] to have the data plotted \n",
      "from the index-$1$ system, solved for a residual smaller than $10^{-4}$ on the $40$-mesh"
     ]
    },
    {
     "cell_type": "code",
     "collapsed": false,
     "input": [
      "PlotList = [[2,1e-3,40],[1,1e-4,40],[1,2**(-13),40]]#,[2,4,40],[2,5,40],]#,\n",
      "Omega = 8\n",
      "VErr, PErr, TDis, Leg, ContRes = [], [], [], [], []\n",
      "for PL in PlotList:\n",
      "    Jpl = load_jsdtoplot(PL,Omega)\n",
      "    PErr.append(err_int(Jpl,'PEr'))\n",
      "    VErr.append(err_int(Jpl,'VelEr'))\n",
      "    ContRes.append(err_int(Jpl,'ContiRes'))\n",
      "    TDis.append(Jpl['TimeDiscs'])\n",
      "    pyplot.close('all')\n",
      "    Leg.append(  DicLP[PL[0]] + ' Grid: $%d$' % PL[2] + ' LinRes: %1.1e' % PL[1] )\n",
      "    \n",
      "plot_errs(VErr,TDis,Leg=Leg,Title='Velocity Error',LinFit=True)\n",
      "plot_errs(PErr,TDis,Leg=Leg,Title='Pressure Error')\n",
      "plot_errs(ContRes,TDis,Leg=Leg,Title='Residual in the conti Eqn')"
     ],
     "language": "python",
     "metadata": {},
     "outputs": [
      {
       "ename": "NameError",
       "evalue": "global name 'plu' is not defined",
       "output_type": "pyerr",
       "traceback": [
        "\u001b[0;31m---------------------------------------------------------------------------\u001b[0m\n\u001b[0;31mNameError\u001b[0m                                 Traceback (most recent call last)",
        "\u001b[0;32m<ipython-input-8-b517d9d1db37>\u001b[0m in \u001b[0;36m<module>\u001b[0;34m()\u001b[0m\n\u001b[1;32m      3\u001b[0m \u001b[0mVErr\u001b[0m\u001b[0;34m,\u001b[0m \u001b[0mPErr\u001b[0m\u001b[0;34m,\u001b[0m \u001b[0mTDis\u001b[0m\u001b[0;34m,\u001b[0m \u001b[0mLeg\u001b[0m\u001b[0;34m,\u001b[0m \u001b[0mContRes\u001b[0m \u001b[0;34m=\u001b[0m \u001b[0;34m[\u001b[0m\u001b[0;34m]\u001b[0m\u001b[0;34m,\u001b[0m \u001b[0;34m[\u001b[0m\u001b[0;34m]\u001b[0m\u001b[0;34m,\u001b[0m \u001b[0;34m[\u001b[0m\u001b[0;34m]\u001b[0m\u001b[0;34m,\u001b[0m \u001b[0;34m[\u001b[0m\u001b[0;34m]\u001b[0m\u001b[0;34m,\u001b[0m \u001b[0;34m[\u001b[0m\u001b[0;34m]\u001b[0m\u001b[0;34m\u001b[0m\u001b[0m\n\u001b[1;32m      4\u001b[0m \u001b[0;32mfor\u001b[0m \u001b[0mPL\u001b[0m \u001b[0;32min\u001b[0m \u001b[0mPlotList\u001b[0m\u001b[0;34m:\u001b[0m\u001b[0;34m\u001b[0m\u001b[0m\n\u001b[0;32m----> 5\u001b[0;31m     \u001b[0mJpl\u001b[0m \u001b[0;34m=\u001b[0m \u001b[0mload_jsdtoplot\u001b[0m\u001b[0;34m(\u001b[0m\u001b[0mPL\u001b[0m\u001b[0;34m,\u001b[0m\u001b[0mOmega\u001b[0m\u001b[0;34m)\u001b[0m\u001b[0;34m\u001b[0m\u001b[0m\n\u001b[0m\u001b[1;32m      6\u001b[0m     \u001b[0mPErr\u001b[0m\u001b[0;34m.\u001b[0m\u001b[0mappend\u001b[0m\u001b[0;34m(\u001b[0m\u001b[0merr_int\u001b[0m\u001b[0;34m(\u001b[0m\u001b[0mJpl\u001b[0m\u001b[0;34m,\u001b[0m\u001b[0;34m'PEr'\u001b[0m\u001b[0;34m)\u001b[0m\u001b[0;34m)\u001b[0m\u001b[0;34m\u001b[0m\u001b[0m\n\u001b[1;32m      7\u001b[0m     \u001b[0mVErr\u001b[0m\u001b[0;34m.\u001b[0m\u001b[0mappend\u001b[0m\u001b[0;34m(\u001b[0m\u001b[0merr_int\u001b[0m\u001b[0;34m(\u001b[0m\u001b[0mJpl\u001b[0m\u001b[0;34m,\u001b[0m\u001b[0;34m'VelEr'\u001b[0m\u001b[0;34m)\u001b[0m\u001b[0;34m)\u001b[0m\u001b[0;34m\u001b[0m\u001b[0m\n",
        "\u001b[0;32m<ipython-input-7-9ef0172084c4>\u001b[0m in \u001b[0;36mload_jsdtoplot\u001b[0;34m(PL, Omega)\u001b[0m\n\u001b[1;32m      4\u001b[0m     \u001b[0;32melse\u001b[0m\u001b[0;34m:\u001b[0m\u001b[0;34m\u001b[0m\u001b[0m\n\u001b[1;32m      5\u001b[0m         \u001b[0mJsF\u001b[0m \u001b[0;34m=\u001b[0m \u001b[0;34m'om%d'\u001b[0m \u001b[0;34m%\u001b[0m \u001b[0mOmega\u001b[0m \u001b[0;34m+\u001b[0m \u001b[0;34m'json/%s'\u001b[0m \u001b[0;34m%\u001b[0m \u001b[0mDicLP\u001b[0m\u001b[0;34m[\u001b[0m\u001b[0mPL\u001b[0m\u001b[0;34m[\u001b[0m\u001b[0;36m0\u001b[0m\u001b[0;34m]\u001b[0m\u001b[0;34m]\u001b[0m \u001b[0;34m+\u001b[0m \u001b[0;34m'Tol%1.1eN%d.json'\u001b[0m \u001b[0;34m%\u001b[0m \u001b[0;34m(\u001b[0m\u001b[0mPL\u001b[0m\u001b[0;34m[\u001b[0m\u001b[0;36m1\u001b[0m\u001b[0;34m]\u001b[0m\u001b[0;34m,\u001b[0m\u001b[0mPL\u001b[0m\u001b[0;34m[\u001b[0m\u001b[0;36m2\u001b[0m\u001b[0;34m]\u001b[0m\u001b[0;34m)\u001b[0m\u001b[0;34m\u001b[0m\u001b[0m\n\u001b[0;32m----> 6\u001b[0;31m     \u001b[0;32mreturn\u001b[0m \u001b[0mplu\u001b[0m\u001b[0;34m.\u001b[0m\u001b[0mload_json_dicts\u001b[0m\u001b[0;34m(\u001b[0m\u001b[0mJsF\u001b[0m\u001b[0;34m)\u001b[0m\u001b[0;34m\u001b[0m\u001b[0m\n\u001b[0m",
        "\u001b[0;31mNameError\u001b[0m: global name 'plu' is not defined"
       ]
      }
     ],
     "prompt_number": 8
    },
    {
     "cell_type": "code",
     "collapsed": false,
     "input": [],
     "language": "python",
     "metadata": {},
     "outputs": []
    }
   ],
   "metadata": {}
  }
 ]
}