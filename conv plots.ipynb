{
 "metadata": {
  "name": "conv plots"
 }, 
 "nbformat": 2, 
 "worksheets": [
  {
   "cells": [
    {
     "cell_type": "code", 
     "collapsed": true, 
     "input": [
      "import test_time_schemes as tts", 
      "import numpy as np"
     ], 
     "language": "python", 
     "outputs": [], 
     "prompt_number": 69
    }, 
    {
     "cell_type": "code", 
     "collapsed": true, 
     "input": [
      "jsd1 = tts.load_json_dicts(\"json/Omeg3Tol1e-04NTs32to512Mesh32HalfExpEulInd2.json\")", 
      "jsd2 = tts.load_json_dicts(\"json/Omeg3Tol1e-05NTs32to256Mesh32HalfExpEulInd2.json\")"
     ], 
     "language": "python", 
     "outputs": [], 
     "prompt_number": 70
    }, 
    {
     "cell_type": "code", 
     "collapsed": true, 
     "input": [
      "def err_int(jsd,JsdKey):", 
      "    tet0=(jsd['TimeInterval'][1]-jsd['TimeInterval'][0])", 
      "    ErL = []", 
      "    for PEr in jsd[JsdKey]:", 
      "        dx = tet0/len(PEr)", 
      "        ErL.append(np.sqrt(np.trapz(np.square(PEr),dx=dx)))", 
      "    return ErL    "
     ], 
     "language": "python", 
     "outputs": [], 
     "prompt_number": 71
    }, 
    {
     "cell_type": "code", 
     "collapsed": true, 
     "input": [
      "def plot_errs(ErL,TdL,Title='None'):", 
      "    MkL = ['s','^','o']", 
      "    for k in range(len(ErL)):", 
      "        pyplot.plot(TdL[k], ErL[k], MkL[k])", 
      "        ", 
      "    pyplot.xscale('log', basex=2)", 
      "    pyplot.yscale('log', basey=2)", 
      "    pyplot.xlim(xmin=0.71*TdL[0][0], xmax=TdL[0][-1]*1.42)", 
      "    pyplot.title(Title)", 
      "    pyplot.grid(True)", 
      "    pyplot.show()"
     ], 
     "language": "python", 
     "outputs": [], 
     "prompt_number": 72
    }, 
    {
     "cell_type": "code", 
     "collapsed": false, 
     "input": [
      "PErrDt1 = err_int(jsd1,'PEr')", 
      "PErrDt2 = err_int(jsd2,'PEr')", 
      "", 
      "plot_errs([PErrDt1,PErrDt2],[jsd1['TimeDiscs'],jsd2['TimeDiscs']])"
     ], 
     "language": "python", 
     "outputs": [
      {
       "output_type": "display_data", 
       "png": "[encoded data removed]"
      }
     ], 
     "prompt_number": 73
    }, 
    {
     "cell_type": "code", 
     "collapsed": false, 
     "input": [
      "VErrDt1 = err_int(jsd1,'VelEr')", 
      "VErrDt2 = err_int(jsd2,'VelEr')", 
      "", 
      "plot_errs([VErrDt1,VErrDt2],[jsd1['TimeDiscs'],jsd2['TimeDiscs']])"
     ], 
     "language": "python", 
     "outputs": [
      {
       "output_type": "display_data", 
       "png": "[encoded data removed]"
      }
     ], 
     "prompt_number": 74
    }, 
    {
     "cell_type": "code", 
     "collapsed": true, 
     "input": [], 
     "language": "python", 
     "outputs": [], 
     "prompt_number": 74
    }
   ]
  }
 ]
}